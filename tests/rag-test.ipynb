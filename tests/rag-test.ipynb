{
 "cells": [
  {
   "cell_type": "code",
   "execution_count": 1,
   "metadata": {},
   "outputs": [
    {
     "data": {
      "text/plain": [
       "True"
      ]
     },
     "execution_count": 1,
     "metadata": {},
     "output_type": "execute_result"
    }
   ],
   "source": [
    "from dotenv import load_dotenv\n",
    "from openai import OpenAI\n",
    "import os\n",
    "\n",
    "load_dotenv()"
   ]
  },
  {
   "cell_type": "code",
   "execution_count": 2,
   "metadata": {},
   "outputs": [],
   "source": [
    "client = OpenAI()"
   ]
  },
  {
   "cell_type": "code",
   "execution_count": 13,
   "metadata": {},
   "outputs": [],
   "source": [
    "def create_assistant(instruction):\n",
    "    assistant = client.beta.assistants.create(\n",
    "        name='Chatbot Hoteleiro',\n",
    "        instructions=instruction,\n",
    "        tools=[{'type':'file_search'}],\n",
    "        model='gpt-3.5-turbo'\n",
    "    )\n",
    "    return assistant"
   ]
  },
  {
   "cell_type": "code",
   "execution_count": 3,
   "metadata": {},
   "outputs": [],
   "source": [
    "base_prompt_instruction = \"\"\"Você é um atendente experiente de um hotel. \\\n",
    "    Responda perguntas variadas sobre hotéis, acomodações, pontos turíscos e outras \\\n",
    "    informações relevantes aos possíveis hóspedes.    \n",
    "\"\"\""
   ]
  },
  {
   "cell_type": "code",
   "execution_count": 26,
   "metadata": {},
   "outputs": [],
   "source": [
    "# assistant = create_assistant(base_prompt_instruction)"
   ]
  },
  {
   "cell_type": "code",
   "execution_count": 4,
   "metadata": {},
   "outputs": [],
   "source": [
    "# vector_store = client.beta.vector_stores.create(name='Paginas HTML de Hoteis')"
   ]
  },
  {
   "cell_type": "code",
   "execution_count": 5,
   "metadata": {},
   "outputs": [],
   "source": [
    "# file_paths = [PATH_HTML]\n",
    "# file_streams = [open(path, 'rb') for path in file_paths]\n",
    "\n",
    "# file_batch = client.beta.vector_stores.file_batches.upload_and_poll(\n",
    "#     vector_store_id=vector_store.id, files=file_streams\n",
    "# )\n",
    "\n",
    "# print(file_batch.status)"
   ]
  },
  {
   "cell_type": "code",
   "execution_count": 6,
   "metadata": {},
   "outputs": [],
   "source": [
    "VECTOR_STORE_ID = 'vs_UVad5hh6Y8gCsQ0OTH57nCuw'\n",
    "ASSISTANT_ID = 'asst_TXgxoREIAnrXfZKSxf8bkJoR'\n",
    "\n",
    "assistant = client.beta.assistants.update(\n",
    "    assistant_id=ASSISTANT_ID,\n",
    "    tool_resources={'file_search':{'vector_store_ids':[VECTOR_STORE_ID]}}\n",
    ")"
   ]
  },
  {
   "cell_type": "code",
   "execution_count": 7,
   "metadata": {},
   "outputs": [],
   "source": [
    "thread = client.beta.threads.create(\n",
    "    messages=[\n",
    "        {\n",
    "            'role':'user',\n",
    "            'content':'Que pousada é essa? O que a pousada tem de bom? Quais os quartos dela?'\n",
    "        }\n",
    "    ]\n",
    ")"
   ]
  },
  {
   "cell_type": "code",
   "execution_count": 8,
   "metadata": {},
   "outputs": [],
   "source": [
    "run = client.beta.threads.runs.create_and_poll(\n",
    "    thread_id=thread.id, assistant_id=assistant.id\n",
    ")\n",
    "\n",
    "messages = list(client.beta.threads.messages.list(thread_id=thread.id, run_id=run.id))"
   ]
  },
  {
   "cell_type": "code",
   "execution_count": 9,
   "metadata": {},
   "outputs": [
    {
     "data": {
      "text/plain": [
       "{'id': 'run_6pvr1nho2iFxwedNJGbfTk0g',\n",
       " 'assistant_id': 'asst_TXgxoREIAnrXfZKSxf8bkJoR',\n",
       " 'cancelled_at': None,\n",
       " 'completed_at': 1721159794,\n",
       " 'created_at': 1721159786,\n",
       " 'expires_at': None,\n",
       " 'failed_at': None,\n",
       " 'incomplete_details': None,\n",
       " 'instructions': 'Você é um atendente experiente de um hotel.     Responda perguntas variadas sobre hotéis, acomodações, pontos turíscos e outras     informações relevantes aos possíveis hóspedes.    \\n',\n",
       " 'last_error': None,\n",
       " 'max_completion_tokens': None,\n",
       " 'max_prompt_tokens': None,\n",
       " 'metadata': {},\n",
       " 'model': 'gpt-3.5-turbo',\n",
       " 'object': 'thread.run',\n",
       " 'parallel_tool_calls': True,\n",
       " 'required_action': None,\n",
       " 'response_format': 'auto',\n",
       " 'started_at': 1721159786,\n",
       " 'status': 'completed',\n",
       " 'thread_id': 'thread_Pvsrt5EZFYZcwSVC6HkGuvqF',\n",
       " 'tool_choice': 'auto',\n",
       " 'tools': [{'type': 'file_search'}],\n",
       " 'truncation_strategy': {'type': 'auto', 'last_messages': None},\n",
       " 'usage': {'completion_tokens': 557,\n",
       "  'prompt_tokens': 4340,\n",
       "  'total_tokens': 4897},\n",
       " 'temperature': 1.0,\n",
       " 'top_p': 1.0,\n",
       " 'tool_resources': {}}"
      ]
     },
     "execution_count": 9,
     "metadata": {},
     "output_type": "execute_result"
    }
   ],
   "source": [
    "run.to_dict()"
   ]
  },
  {
   "cell_type": "code",
   "execution_count": 20,
   "metadata": {},
   "outputs": [
    {
     "name": "stdout",
     "output_type": "stream",
     "text": [
      "A pousada em questão é a Pousada Porto De Galinhas, localizada em Porto de Galinhas, Brasil. Algumas das características e comodidades oferecidas pela pousada incluem:\n",
      "\n",
      "- Piscina ao ar livre aberta o ano todo.\n",
      "- Quartos com varanda.\n",
      "- Quartos com ar condicionado, TV de tela plana, frigobar, guarda-roupa, cofre e vista para o pátio interno.\n",
      "- Banheiro privativo com chuveiro, incluindo produtos de higiene pessoal gratuitos.\n",
      "- Buffet de café-da-manhã com frutas frescas, sucos, pães e bolos.\n",
      "- Atividades na área aconselhadas pela recepção, tais como passeios de buggy, surf e mergulho.\n",
      "\n",
      "A pousada oferece diferentes tipos de quartos, tais como:\n",
      "1. **Quarto Duplo**:\n",
      "   - Tamanho: 20 metros quadrados\n",
      "   - Cama: 1 cama de casal\n",
      "   - Comporta até duas pessoas\n",
      "   - Inclui amenities de banho gratuitas, banheiro privativo, ar-condicionado, TV de tela plana, frigobar, guarda-roupa, cofre e vista para o pátio interno.\n",
      "\n",
      "2. **Quarto Triplo**:\n",
      "   - Tamanho: 20 metros quadrados\n",
      "   - Camas: 1 cama de solteiro e 1 cama de casal\n",
      "   - Comporta até três pessoas\n",
      "   - Inclui amenities de banho gratuitas, banheiro privativo, ar-condicionado, TV de tela plana, frigobar, guarda-roupa, cofre e vista para o pátio interno. A unidade possui 2 camas.\n",
      "\n",
      "3. **Quarto Quádruplo**:\n",
      "   - Tamanho: 20 metros quadrados\n",
      "   - Camas: 2 camas de solteiro e 1 cama de casal\n",
      "   - Comporta até quatro pessoas\n",
      "   - Inclui amenities de banho gratuitas, banheiro privativo, ar-condicionado, TV de tela plana, frigobar, guarda-roupa, cofre e vista para o pátio interno. A unidade possui 3 camas.\n",
      "\n",
      "Essas são algumas das informações sobre a Pousada Porto De Galinhas e seus quartos disponíveis【4:0†source】.\n"
     ]
    }
   ],
   "source": [
    "print(messages[0].content[0].text.value)"
   ]
  },
  {
   "cell_type": "markdown",
   "metadata": {},
   "source": [
    "---"
   ]
  },
  {
   "cell_type": "markdown",
   "metadata": {},
   "source": [
    "# Testing RAGApplication Class from rag.py "
   ]
  },
  {
   "cell_type": "code",
   "execution_count": 22,
   "metadata": {},
   "outputs": [],
   "source": [
    "VECTOR_STORE_ID = 'vs_UVad5hh6Y8gCsQ0OTH57nCuw'\n",
    "ASSISTANT_ID = 'asst_TXgxoREIAnrXfZKSxf8bkJoR'"
   ]
  },
  {
   "cell_type": "code",
   "execution_count": 23,
   "metadata": {},
   "outputs": [],
   "source": [
    "from rag import RAGApplication\n",
    "\n",
    "rag_application = RAGApplication(os.getenv('OPENAI_API_KEY'), ASSISTANT_ID, VECTOR_STORE_ID)"
   ]
  },
  {
   "cell_type": "code",
   "execution_count": 24,
   "metadata": {},
   "outputs": [
    {
     "data": {
      "text/plain": [
       "Message(id='msg_IqvGJTYgMHzOgzGPWCDec5Xa', assistant_id=None, attachments=[], completed_at=None, content=[TextContentBlock(text=Text(annotations=[], value='Qual é o nome dessa pousada?'), type='text')], created_at=1721161267, incomplete_at=None, incomplete_details=None, metadata={}, object='thread.message', role='user', run_id=None, status=None, thread_id='thread_dbKdzxGMQR0dFDDxEj2KfGlD')"
      ]
     },
     "execution_count": 24,
     "metadata": {},
     "output_type": "execute_result"
    }
   ],
   "source": [
    "rag_application.add_user_message('Qual é o nome dessa pousada?')"
   ]
  },
  {
   "cell_type": "code",
   "execution_count": 25,
   "metadata": {},
   "outputs": [],
   "source": [
    "res_dict = rag_application.run_thread()"
   ]
  },
  {
   "cell_type": "code",
   "execution_count": 26,
   "metadata": {},
   "outputs": [
    {
     "data": {
      "text/plain": [
       "['O nome da pousada é Pousada Porto De Galinhas. Para mais informações, você pode acessar o [link](https://www.booking.com/hotel/br/pousada-porto-de-galinhas.pt-br.html) fornecido.']"
      ]
     },
     "execution_count": 26,
     "metadata": {},
     "output_type": "execute_result"
    }
   ],
   "source": [
    "res_dict['messages']"
   ]
  },
  {
   "cell_type": "code",
   "execution_count": 27,
   "metadata": {},
   "outputs": [
    {
     "data": {
      "text/plain": [
       "Message(id='msg_nCLa7EahGlSRKDRZFujs8y45', assistant_id=None, attachments=[], completed_at=None, content=[TextContentBlock(text=Text(annotations=[], value='Qual foi minha última pergunta mesmo?'), type='text')], created_at=1721161333, incomplete_at=None, incomplete_details=None, metadata={}, object='thread.message', role='user', run_id=None, status=None, thread_id='thread_dbKdzxGMQR0dFDDxEj2KfGlD')"
      ]
     },
     "execution_count": 27,
     "metadata": {},
     "output_type": "execute_result"
    }
   ],
   "source": [
    "rag_application.add_user_message('Qual foi minha última pergunta mesmo?')"
   ]
  },
  {
   "cell_type": "code",
   "execution_count": 28,
   "metadata": {},
   "outputs": [
    {
     "data": {
      "text/plain": [
       "['Sua última pergunta foi sobre o nome da pousada. Posso ajudar com mais alguma informação?']"
      ]
     },
     "execution_count": 28,
     "metadata": {},
     "output_type": "execute_result"
    }
   ],
   "source": [
    "res_dict2 = rag_application.run_thread()\n",
    "res_dict2['messages']"
   ]
  },
  {
   "cell_type": "code",
   "execution_count": 29,
   "metadata": {},
   "outputs": [
    {
     "data": {
      "text/plain": [
       "['Posso ajudar com mais alguma informação?']"
      ]
     },
     "execution_count": 29,
     "metadata": {},
     "output_type": "execute_result"
    }
   ],
   "source": [
    "res_dict2 = rag_application.run_thread()\n",
    "res_dict2['messages']"
   ]
  },
  {
   "cell_type": "code",
   "execution_count": 32,
   "metadata": {},
   "outputs": [
    {
     "data": {
      "text/plain": [
       "{'id': 'run_lrOjVkJqdWQGpdcBbQISB9zP',\n",
       " 'assistant_id': 'asst_TXgxoREIAnrXfZKSxf8bkJoR',\n",
       " 'cancelled_at': None,\n",
       " 'completed_at': 1721161433,\n",
       " 'created_at': 1721161431,\n",
       " 'expires_at': None,\n",
       " 'failed_at': None,\n",
       " 'incomplete_details': None,\n",
       " 'instructions': 'Você é um atendente experiente de um hotel.     Responda perguntas variadas sobre hotéis, acomodações, pontos turíscos e outras     informações relevantes aos possíveis hóspedes.    \\n',\n",
       " 'last_error': None,\n",
       " 'max_completion_tokens': None,\n",
       " 'max_prompt_tokens': None,\n",
       " 'metadata': {},\n",
       " 'model': 'gpt-3.5-turbo',\n",
       " 'object': 'thread.run',\n",
       " 'parallel_tool_calls': True,\n",
       " 'required_action': None,\n",
       " 'response_format': 'auto',\n",
       " 'started_at': 1721161431,\n",
       " 'status': 'completed',\n",
       " 'thread_id': 'thread_dbKdzxGMQR0dFDDxEj2KfGlD',\n",
       " 'tool_choice': 'auto',\n",
       " 'tools': [{'type': 'file_search'}],\n",
       " 'truncation_strategy': {'type': 'auto', 'last_messages': None},\n",
       " 'usage': {'completion_tokens': 13, 'prompt_tokens': 787, 'total_tokens': 800},\n",
       " 'temperature': 1.0,\n",
       " 'top_p': 1.0,\n",
       " 'tool_resources': {}}"
      ]
     },
     "execution_count": 32,
     "metadata": {},
     "output_type": "execute_result"
    }
   ],
   "source": [
    "res_dict2['run'].to_dict()"
   ]
  },
  {
   "cell_type": "code",
   "execution_count": null,
   "metadata": {},
   "outputs": [],
   "source": []
  }
 ],
 "metadata": {
  "kernelspec": {
   "display_name": "base",
   "language": "python",
   "name": "python3"
  },
  "language_info": {
   "codemirror_mode": {
    "name": "ipython",
    "version": 3
   },
   "file_extension": ".py",
   "mimetype": "text/x-python",
   "name": "python",
   "nbconvert_exporter": "python",
   "pygments_lexer": "ipython3",
   "version": "3.12.4"
  }
 },
 "nbformat": 4,
 "nbformat_minor": 2
}
