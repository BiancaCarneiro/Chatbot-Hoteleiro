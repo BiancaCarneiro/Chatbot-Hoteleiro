{
 "cells": [
  {
   "cell_type": "code",
   "execution_count": 11,
   "metadata": {},
   "outputs": [
    {
     "data": {
      "text/plain": [
       "True"
      ]
     },
     "execution_count": 11,
     "metadata": {},
     "output_type": "execute_result"
    }
   ],
   "source": [
    "from dotenv import load_dotenv\n",
    "from openai import OpenAI\n",
    "import os\n",
    "\n",
    "load_dotenv()"
   ]
  },
  {
   "cell_type": "code",
   "execution_count": 12,
   "metadata": {},
   "outputs": [],
   "source": [
    "client = OpenAI()"
   ]
  },
  {
   "cell_type": "code",
   "execution_count": 13,
   "metadata": {},
   "outputs": [],
   "source": [
    "def create_assistant(instruction):\n",
    "    assistant = client.beta.assistants.create(\n",
    "        name='Chatbot Hoteleiro',\n",
    "        instructions=instruction,\n",
    "        tools=[{'type':'file_search'}],\n",
    "        model='gpt-3.5-turbo'\n",
    "    )\n",
    "    return assistant"
   ]
  },
  {
   "cell_type": "code",
   "execution_count": 22,
   "metadata": {},
   "outputs": [],
   "source": [
    "def upload_file(path, file_type='binary'):\n",
    "    read_type = 't' if file_type == 'text' else 'b'\n",
    "    file = client.files.create(file=open(path, 'r' + read_type), purpose='assistants')\n",
    "    return file"
   ]
  },
  {
   "cell_type": "code",
   "execution_count": 23,
   "metadata": {},
   "outputs": [],
   "source": [
    "base_prompt_instruction = \"\"\"Você é um atendente experiente de um hotel. \\\n",
    "    Responda perguntas variadas sobre hotéis, acomodações, pontos turíscos e outras \\\n",
    "    informações relevantes aos possíveis hóspedes.    \n",
    "\"\"\""
   ]
  },
  {
   "cell_type": "code",
   "execution_count": 25,
   "metadata": {},
   "outputs": [
    {
     "data": {
      "text/plain": [
       "FileObject(id='file-p0e4nVNJtMKfJaPZ6iIKqDsy', bytes=3022974, created_at=1721149230, filename='pousada-porto-de-galinhas-booking.html', object='file', purpose='assistants', status='processed', status_details=None)"
      ]
     },
     "execution_count": 25,
     "metadata": {},
     "output_type": "execute_result"
    }
   ],
   "source": [
    "PATH_HTML = 'pousada-porto-de-galinhas-booking.html'\n",
    "\n",
    "upload_file(PATH_HTML)"
   ]
  },
  {
   "cell_type": "code",
   "execution_count": 26,
   "metadata": {},
   "outputs": [],
   "source": [
    "assistant = create_assistant(base_prompt_instruction)"
   ]
  },
  {
   "cell_type": "code",
   "execution_count": 27,
   "metadata": {},
   "outputs": [],
   "source": [
    "vector_store = client.beta.vector_stores.create(name='Paginas HTML de Hoteis')"
   ]
  },
  {
   "cell_type": "code",
   "execution_count": 28,
   "metadata": {},
   "outputs": [
    {
     "name": "stdout",
     "output_type": "stream",
     "text": [
      "completed\n"
     ]
    }
   ],
   "source": [
    "file_paths = [PATH_HTML]\n",
    "file_streams = [open(path, 'rb') for path in file_paths]\n",
    "\n",
    "file_batch = client.beta.vector_stores.file_batches.upload_and_poll(\n",
    "    vector_store_id=vector_store.id, files=file_streams\n",
    ")\n",
    "\n",
    "print(file_batch.status)"
   ]
  },
  {
   "cell_type": "code",
   "execution_count": 29,
   "metadata": {},
   "outputs": [],
   "source": [
    "assistant = client.beta.assistants.update(\n",
    "    assistant_id=assistant.id,\n",
    "    tool_resources={'file_search':{'vector_store_ids':[vector_store.id]}}\n",
    ")"
   ]
  },
  {
   "cell_type": "code",
   "execution_count": 30,
   "metadata": {},
   "outputs": [],
   "source": [
    "thread = client.beta.threads.create(\n",
    "    messages=[\n",
    "        {\n",
    "            'role':'user',\n",
    "            'content':'Que pousada é essa? O que a pousada tem de bom? Quais os quartos dela?'\n",
    "        }\n",
    "    ]\n",
    ")"
   ]
  },
  {
   "cell_type": "code",
   "execution_count": 31,
   "metadata": {},
   "outputs": [],
   "source": [
    "run = client.beta.threads.runs.create_and_poll(\n",
    "    thread_id=thread.id, assistant_id=assistant.id\n",
    ")\n",
    "\n",
    "messages = list(client.beta.threads.messages.list(thread_id=thread.id, run_id=run.id))"
   ]
  },
  {
   "cell_type": "code",
   "execution_count": 33,
   "metadata": {},
   "outputs": [
    {
     "data": {
      "text/plain": [
       "{'id': 'run_q2XYPXiVylehNcu7yTZOrnSO',\n",
       " 'assistant_id': 'asst_UF0QP2rqXlRVbKzepcschYuD',\n",
       " 'cancelled_at': None,\n",
       " 'completed_at': None,\n",
       " 'created_at': 1721149623,\n",
       " 'expires_at': None,\n",
       " 'failed_at': 1721149630,\n",
       " 'incomplete_details': None,\n",
       " 'instructions': 'Você é um atendente experiente de um hotel.     Responda perguntas variadas sobre hotéis, acomodações, pontos turíscos e outras     informações relevantes aos possíveis hóspedes.    \\n',\n",
       " 'last_error': {'code': 'rate_limit_exceeded',\n",
       "  'message': 'You exceeded your current quota, please check your plan and billing details. For more information on this error, read the docs: https://platform.openai.com/docs/guides/error-codes/api-errors.'},\n",
       " 'max_completion_tokens': None,\n",
       " 'max_prompt_tokens': None,\n",
       " 'metadata': {},\n",
       " 'model': 'gpt-3.5-turbo',\n",
       " 'object': 'thread.run',\n",
       " 'parallel_tool_calls': True,\n",
       " 'required_action': None,\n",
       " 'response_format': 'auto',\n",
       " 'started_at': 1721149624,\n",
       " 'status': 'failed',\n",
       " 'thread_id': 'thread_vIfWbKOPMCtDJu0sxGvtialT',\n",
       " 'tool_choice': 'auto',\n",
       " 'tools': [{'type': 'file_search'}],\n",
       " 'truncation_strategy': {'type': 'auto', 'last_messages': None},\n",
       " 'usage': {'completion_tokens': 0, 'prompt_tokens': 0, 'total_tokens': 0},\n",
       " 'temperature': 1.0,\n",
       " 'top_p': 1.0,\n",
       " 'tool_resources': {}}"
      ]
     },
     "execution_count": 33,
     "metadata": {},
     "output_type": "execute_result"
    }
   ],
   "source": [
    "run.to_dict()"
   ]
  },
  {
   "cell_type": "code",
   "execution_count": null,
   "metadata": {},
   "outputs": [],
   "source": []
  }
 ],
 "metadata": {
  "kernelspec": {
   "display_name": "base",
   "language": "python",
   "name": "python3"
  },
  "language_info": {
   "codemirror_mode": {
    "name": "ipython",
    "version": 3
   },
   "file_extension": ".py",
   "mimetype": "text/x-python",
   "name": "python",
   "nbconvert_exporter": "python",
   "pygments_lexer": "ipython3",
   "version": "3.12.4"
  }
 },
 "nbformat": 4,
 "nbformat_minor": 2
}
